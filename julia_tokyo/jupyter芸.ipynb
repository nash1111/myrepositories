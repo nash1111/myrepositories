{
 "cells": [
  {
   "cell_type": "markdown",
   "metadata": {},
   "source": [
    "### 便利\n",
    "#### @doc\n",
    "julia> @doc (調べたいもの)  \n",
    "help?> (調べたいもの)"
   ]
  },
  {
   "cell_type": "code",
   "execution_count": 1,
   "metadata": {},
   "outputs": [
    {
     "data": {
      "text/latex": [
       "\\begin{verbatim}\n",
       "@simd\n",
       "\\end{verbatim}\n",
       "Annotate a \\texttt{for} loop to allow the compiler to take extra liberties to allow loop re-ordering\n",
       "\n",
       "\\begin{quote}\n",
       "\\textbf{warning}\n",
       "\n",
       "Warning\n",
       "\n",
       "This feature is experimental and could change or disappear in future versions of Julia. Incorrect use of the \\texttt{@simd} macro may cause unexpected results.\n",
       "\n",
       "\\end{quote}\n",
       "The object iterated over in a \\texttt{@simd for} loop should be a one-dimensional range. By using \\texttt{@simd}, you are asserting several properties of the loop:\n",
       "\n",
       "\\begin{itemize}\n",
       "\\item It is safe to execute iterations in arbitrary or overlapping order, with special consideration for reduction variables.\n",
       "\n",
       "\n",
       "\\item Floating-point operations on reduction variables can be reordered, possibly causing different results than without \\texttt{@simd}.\n",
       "\n",
       "\\end{itemize}\n",
       "In many cases, Julia is able to automatically vectorize inner for loops without the use of \\texttt{@simd}. Using \\texttt{@simd} gives the compiler a little extra leeway to make it possible in more situations. In either case, your inner loop should have the following properties to allow vectorization:\n",
       "\n",
       "\\begin{itemize}\n",
       "\\item The loop must be an innermost loop\n",
       "\n",
       "\n",
       "\\item The loop body must be straight-line code. Therefore, \\href{@ref}{\\texttt{@inbounds}} is   currently needed for all array accesses. The compiler can sometimes turn   short \\texttt{\\&\\&}, \\texttt{||}, and \\texttt{?:} expressions into straight-line code if it is safe   to evaluate all operands unconditionally. Consider using the \\href{@ref}{\\texttt{ifelse}}   function instead of \\texttt{?:} in the loop if it is safe to do so.\n",
       "\n",
       "\n",
       "\\item Accesses must have a stride pattern and cannot be \"gathers\" (random-index   reads) or \"scatters\" (random-index writes).\n",
       "\n",
       "\n",
       "\\item The stride should be unit stride.\n",
       "\n",
       "\\end{itemize}\n",
       "\\begin{quote}\n",
       "\\textbf{note}\n",
       "\n",
       "Note\n",
       "\n",
       "The \\texttt{@simd} does not assert by default that the loop is completely free of loop-carried memory dependencies, which is an assumption that can easily be violated in generic code. If you are writing non-generic code, you can use \\texttt{@simd ivdep for ... end} to also assert that:\n",
       "\n",
       "\\end{quote}\n",
       "\\begin{itemize}\n",
       "\\item There exists no loop-carried memory dependencies\n",
       "\n",
       "\n",
       "\\item No iteration ever waits on a previous iteration to make forward progress.\n",
       "\n",
       "\\end{itemize}\n"
      ],
      "text/markdown": [
       "```\n",
       "@simd\n",
       "```\n",
       "\n",
       "Annotate a `for` loop to allow the compiler to take extra liberties to allow loop re-ordering\n",
       "\n",
       "!!! warning\n",
       "    This feature is experimental and could change or disappear in future versions of Julia. Incorrect use of the `@simd` macro may cause unexpected results.\n",
       "\n",
       "\n",
       "The object iterated over in a `@simd for` loop should be a one-dimensional range. By using `@simd`, you are asserting several properties of the loop:\n",
       "\n",
       "  * It is safe to execute iterations in arbitrary or overlapping order, with special consideration for reduction variables.\n",
       "  * Floating-point operations on reduction variables can be reordered, possibly causing different results than without `@simd`.\n",
       "\n",
       "In many cases, Julia is able to automatically vectorize inner for loops without the use of `@simd`. Using `@simd` gives the compiler a little extra leeway to make it possible in more situations. In either case, your inner loop should have the following properties to allow vectorization:\n",
       "\n",
       "  * The loop must be an innermost loop\n",
       "  * The loop body must be straight-line code. Therefore, [`@inbounds`](@ref) is   currently needed for all array accesses. The compiler can sometimes turn   short `&&`, `||`, and `?:` expressions into straight-line code if it is safe   to evaluate all operands unconditionally. Consider using the [`ifelse`](@ref)   function instead of `?:` in the loop if it is safe to do so.\n",
       "  * Accesses must have a stride pattern and cannot be \"gathers\" (random-index   reads) or \"scatters\" (random-index writes).\n",
       "  * The stride should be unit stride.\n",
       "\n",
       "!!! note\n",
       "    The `@simd` does not assert by default that the loop is completely free of loop-carried memory dependencies, which is an assumption that can easily be violated in generic code. If you are writing non-generic code, you can use `@simd ivdep for ... end` to also assert that:\n",
       "\n",
       "\n",
       "  * There exists no loop-carried memory dependencies\n",
       "  * No iteration ever waits on a previous iteration to make forward progress.\n"
      ],
      "text/plain": [
       "\u001b[36m  @simd\u001b[39m\n",
       "\n",
       "  Annotate a \u001b[36mfor\u001b[39m loop to allow the compiler to take extra liberties to allow\n",
       "  loop re-ordering\n",
       "\n",
       "\u001b[33m\u001b[1m  │ \u001b[22m\u001b[39m\u001b[33m\u001b[1mWarning\u001b[22m\u001b[39m\n",
       "\u001b[33m\u001b[1m  │\u001b[22m\u001b[39m\n",
       "\u001b[33m\u001b[1m  │\u001b[22m\u001b[39m  This feature is experimental and could change or disappear in\n",
       "\u001b[33m\u001b[1m  │\u001b[22m\u001b[39m  future versions of Julia. Incorrect use of the \u001b[36m@simd\u001b[39m macro may\n",
       "\u001b[33m\u001b[1m  │\u001b[22m\u001b[39m  cause unexpected results.\n",
       "\n",
       "  The object iterated over in a \u001b[36m@simd for\u001b[39m loop should be a one-dimensional\n",
       "  range. By using \u001b[36m@simd\u001b[39m, you are asserting several properties of the loop:\n",
       "\n",
       "    •    It is safe to execute iterations in arbitrary or overlapping\n",
       "        order, with special consideration for reduction variables.\n",
       "\n",
       "    •    Floating-point operations on reduction variables can be reordered,\n",
       "        possibly causing different results than without \u001b[36m@simd\u001b[39m.\n",
       "\n",
       "  In many cases, Julia is able to automatically vectorize inner for loops\n",
       "  without the use of \u001b[36m@simd\u001b[39m. Using \u001b[36m@simd\u001b[39m gives the compiler a little extra\n",
       "  leeway to make it possible in more situations. In either case, your inner\n",
       "  loop should have the following properties to allow vectorization:\n",
       "\n",
       "    •    The loop must be an innermost loop\n",
       "\n",
       "    •    The loop body must be straight-line code. Therefore, \u001b[36m@inbounds\u001b[39m is\n",
       "        currently needed for all array accesses. The compiler can\n",
       "        sometimes turn short \u001b[36m&&\u001b[39m, \u001b[36m||\u001b[39m, and \u001b[36m?:\u001b[39m expressions into straight-line\n",
       "        code if it is safe to evaluate all operands unconditionally.\n",
       "        Consider using the \u001b[36mifelse\u001b[39m function instead of \u001b[36m?:\u001b[39m in the loop if it\n",
       "        is safe to do so.\n",
       "\n",
       "    •    Accesses must have a stride pattern and cannot be \"gathers\"\n",
       "        (random-index reads) or \"scatters\" (random-index writes).\n",
       "\n",
       "    •    The stride should be unit stride.\n",
       "\n",
       "\u001b[36m\u001b[1m  │ \u001b[22m\u001b[39m\u001b[36m\u001b[1mNote\u001b[22m\u001b[39m\n",
       "\u001b[36m\u001b[1m  │\u001b[22m\u001b[39m\n",
       "\u001b[36m\u001b[1m  │\u001b[22m\u001b[39m  The \u001b[36m@simd\u001b[39m does not assert by default that the loop is completely\n",
       "\u001b[36m\u001b[1m  │\u001b[22m\u001b[39m  free of loop-carried memory dependencies, which is an assumption\n",
       "\u001b[36m\u001b[1m  │\u001b[22m\u001b[39m  that can easily be violated in generic code. If you are writing\n",
       "\u001b[36m\u001b[1m  │\u001b[22m\u001b[39m  non-generic code, you can use \u001b[36m@simd ivdep for ... end\u001b[39m to also\n",
       "\u001b[36m\u001b[1m  │\u001b[22m\u001b[39m  assert that:\n",
       "\n",
       "    •    There exists no loop-carried memory dependencies\n",
       "\n",
       "    •    No iteration ever waits on a previous iteration to make forward\n",
       "        progress."
      ]
     },
     "execution_count": 1,
     "metadata": {},
     "output_type": "execute_result"
    }
   ],
   "source": [
    "@doc @simd"
   ]
  },
  {
   "cell_type": "code",
   "execution_count": 1,
   "metadata": {},
   "outputs": [
    {
     "name": "stdout",
     "output_type": "stream",
     "text": [
      "PITCHME.md\n",
      "PITCHME.yaml\n",
      "README.md\n",
      "awful_indent.jl\n",
      "awful_indent_fmt.jl\n",
      "boundserror.jl\n",
      "debug.jl\n",
      "img\n",
      "inbound.ipynb\n",
      "inbounds.jl\n",
      "inbounds_comparison.jl\n",
      "jupyter芸.ipynb\n",
      "memo.txt\n",
      "simd_is_fast.ipynb\n"
     ]
    }
   ],
   "source": [
    "; ls"
   ]
  },
  {
   "cell_type": "code",
   "execution_count": 2,
   "metadata": {},
   "outputs": [
    {
     "data": {
      "text/latex": [
       "The analogue of IPython's \\texttt{\\%\\%sh ...code...} in Julia can be constructed by first evaluating\n",
       "\n",
       "\\begin{verbatim}\n",
       "macro sh_str(s) open(`sh`,\"w\",stdout) do io; print(io, s); end; end\n",
       "\\end{verbatim}\n",
       "to define the \\texttt{sh\"....\"} \\href{http://docs.julialang.org/en/latest/manual/strings/#non-standard-string-literals}{string macro} in Julia.  Subsequently, you can simply do:\n",
       "\n",
       "\\begin{verbatim}\n",
       "sh\"\"\"\n",
       "...code...\n",
       "\"\"\"\n",
       "\\end{verbatim}\n",
       "to evaluate the code in \\texttt{sh} (outputting to \\texttt{stdout}).\n",
       "\n"
      ],
      "text/markdown": [
       "The analogue of IPython's `%%sh ...code...` in Julia can be constructed by first evaluating\n",
       "\n",
       "```\n",
       "macro sh_str(s) open(`sh`,\"w\",stdout) do io; print(io, s); end; end\n",
       "```\n",
       "\n",
       "to define the `sh\"....\"` [string macro](http://docs.julialang.org/en/latest/manual/strings/#non-standard-string-literals) in Julia.  Subsequently, you can simply do:\n",
       "\n",
       "```\n",
       "sh\"\"\"\n",
       "...code...\n",
       "\"\"\"\n",
       "```\n",
       "\n",
       "to evaluate the code in `sh` (outputting to `stdout`).\n"
      ],
      "text/plain": [
       "  The analogue of IPython's \u001b[36m%%sh ...code...\u001b[39m in Julia can be constructed by\n",
       "  first evaluating\n",
       "\n",
       "  \u001b[38;5;197mmacro\u001b[0m \u001b[0m\u001b[38;5;81msh_str\u001b[0m(\u001b[0m\u001b[39ms\u001b[0m\u001b[39m)\u001b[0m \u001b[0m\u001b[38;5;81mopen\u001b[0m(\u001b[0m\u001b[39m`sh`\u001b[0m\u001b[39m,\u001b[0m\u001b[38;5;208m\"w\"\u001b[0m\u001b[39m,\u001b[0m\u001b[39mstdout\u001b[0m\u001b[39m)\u001b[0m \u001b[0m\u001b[38;5;197mdo\u001b[0m \u001b[0m\u001b[39mio\u001b[0m\u001b[39m;\u001b[0m \u001b[0m\u001b[38;5;81mprint\u001b[0m(\u001b[0m\u001b[39mio\u001b[0m\u001b[39m,\u001b[0m \u001b[0m\u001b[39ms\u001b[0m\u001b[39m)\u001b[0m\u001b[39m;\u001b[0m \u001b[0m\u001b[38;5;197mend\u001b[0m\u001b[39m;\u001b[0m \u001b[0m\u001b[38;5;197mend\u001b[0m\u001b[39m\u001b[0m\n",
       "\n",
       "\n",
       "  to define the \u001b[36msh\"....\"\u001b[39m string macro\n",
       "  (http://docs.julialang.org/en/latest/manual/strings/#non-standard-string-literals)\n",
       "  in Julia. Subsequently, you can simply do:\n",
       "\n",
       "  \u001b[39msh\u001b[0m\u001b[38;5;208m\"\"\"\n",
       "  ...code...\n",
       "  \"\"\"\u001b[0m\u001b[39m\u001b[0m\n",
       "\n",
       "\n",
       "  to evaluate the code in \u001b[36msh\u001b[39m (outputting to \u001b[36mstdout\u001b[39m)."
      ]
     },
     "metadata": {},
     "output_type": "display_data"
    }
   ],
   "source": [
    "%%sh"
   ]
  },
  {
   "cell_type": "code",
   "execution_count": 5,
   "metadata": {},
   "outputs": [
    {
     "data": {
      "text/latex": [
       "The equivalent of \\texttt{\\%alias} magic in Julia is simply to write a function that \\href{http://docs.julialang.org/en/latest/manual/running-external-programs/}{runs a command object}.\n",
       "\n",
       "For example, the equivalent of \\texttt{\\%alias bracket echo \"Input in brackets: <\\%l>\"} in IPython would be the Julia function\n",
       "\n",
       "\\begin{verbatim}\n",
       "bracket(l) = run(`echo \"Input in brackets: <$l>\"`)\n",
       "\\end{verbatim}\n",
       "which you can then run with e.g. \\texttt{bracket(\"hello world\")}.\n",
       "\n"
      ],
      "text/markdown": [
       "The equivalent of `%alias` magic in Julia is simply to write a function that [runs a command object](http://docs.julialang.org/en/latest/manual/running-external-programs/).\n",
       "\n",
       "For example, the equivalent of `%alias bracket echo \"Input in brackets: <%l>\"` in IPython would be the Julia function\n",
       "\n",
       "```\n",
       "bracket(l) = run(`echo \"Input in brackets: <$l>\"`)\n",
       "```\n",
       "\n",
       "which you can then run with e.g. `bracket(\"hello world\")`.\n"
      ],
      "text/plain": [
       "  The equivalent of \u001b[36m%alias\u001b[39m magic in Julia is simply to write a function that\n",
       "  runs a command object\n",
       "  (http://docs.julialang.org/en/latest/manual/running-external-programs/).\n",
       "\n",
       "  For example, the equivalent of \u001b[36m%alias bracket echo \"Input in brackets: <%l>\"\u001b[39m\n",
       "  in IPython would be the Julia function\n",
       "\n",
       "  \u001b[38;5;81mbracket\u001b[0m(\u001b[0m\u001b[39ml\u001b[0m\u001b[39m)\u001b[0m \u001b[0m\u001b[38;5;197m=\u001b[0m \u001b[0m\u001b[38;5;81mrun\u001b[0m(\u001b[0m\u001b[39m`echo \"Input in brackets: <$l>\"`\u001b[0m\u001b[39m)\u001b[0m\u001b[39m\u001b[0m\n",
       "\n",
       "\n",
       "  which you can then run with e.g. \u001b[36mbracket(\"hello world\")\u001b[39m."
      ]
     },
     "metadata": {},
     "output_type": "display_data"
    }
   ],
   "source": [
    "%alias"
   ]
  },
  {
   "cell_type": "code",
   "execution_count": 3,
   "metadata": {},
   "outputs": [
    {
     "data": {
      "text/latex": [
       "\\begin{verbatim}\n",
       "The analogue of IPython's `%%latex` is\n",
       "```\n",
       "display(\"text/latex\", \"\"\"\n",
       "...latex text...\n",
       "\"\"\")\n",
       "```\n",
       "in Julia.  Note, however, that `$` and `\\` in the LaTeX text\n",
       "needs to be escaped as `\\$` and `\\\\` so that they aren't\n",
       "interpreted by Julia.  See, however, the\n",
       "[LaTeXStrings package](https://github.com/stevengj/LaTeXStrings.jl)\n",
       "for easier input of LaTeX text as\n",
       "L\"\"\"\n",
       "...latex text...\n",
       "\"\"\"\n",
       "without requiring any extra backslashes.\n",
       "\\end{verbatim}\n"
      ],
      "text/markdown": [
       "````\n",
       "The analogue of IPython's `%%latex` is\n",
       "```\n",
       "display(\"text/latex\", \"\"\"\n",
       "...latex text...\n",
       "\"\"\")\n",
       "```\n",
       "in Julia.  Note, however, that `$` and `\\` in the LaTeX text\n",
       "needs to be escaped as `\\$` and `\\\\` so that they aren't\n",
       "interpreted by Julia.  See, however, the\n",
       "[LaTeXStrings package](https://github.com/stevengj/LaTeXStrings.jl)\n",
       "for easier input of LaTeX text as\n",
       "L\"\"\"\n",
       "...latex text...\n",
       "\"\"\"\n",
       "without requiring any extra backslashes.\n",
       "````\n"
      ],
      "text/plain": [
       "  \u001b[39mThe\u001b[0m \u001b[0m\u001b[39manalogue\u001b[0m \u001b[0m\u001b[39mof\u001b[0m \u001b[0m\u001b[39mIPython\u001b[0m\u001b[38;5;197m'\u001b[0m\u001b[39ms\u001b[0m \u001b[0m\u001b[39m`%%latex`\u001b[0m \u001b[0m\u001b[39mis\u001b[0m\n",
       "  \u001b[0m\u001b[39m```\n",
       "  display(\"text/latex\", \"\"\"\n",
       "  ...latex text...\n",
       "  \"\"\")\n",
       "  ```\u001b[0m\n",
       "  \u001b[0m\u001b[38;5;197min\u001b[0m \u001b[0m\u001b[39mJulia\u001b[0m\u001b[38;5;197m.\u001b[0m  \u001b[0m\u001b[39mNote\u001b[0m\u001b[39m,\u001b[0m \u001b[0m\u001b[39mhowever\u001b[0m\u001b[39m,\u001b[0m \u001b[0m\u001b[39mthat\u001b[0m \u001b[0m\u001b[39m`$`\u001b[0m \u001b[0m\u001b[39mand\u001b[0m \u001b[0m\u001b[39m`\\` in the LaTeX text\n",
       "  needs to be escaped as `\u001b[0m\u001b[38;5;197m\\\u001b[0m\u001b[38;5;197m$\u001b[0m\u001b[39m` and `\u001b[0m\u001b[38;5;197m\\\u001b[0m\u001b[38;5;197m\\\u001b[0m\u001b[39m` so that they aren't\n",
       "  interpreted by Julia.  See, however, the\n",
       "  [LaTeXStrings package](https://github.com/stevengj/LaTeXStrings.jl)\n",
       "  for easier input of LaTeX text as\n",
       "  L\"\"\"\n",
       "  ...latex text...\n",
       "  \"\"\"\n",
       "  without requiring any extra backslashes.\u001b[0m\u001b[39m\u001b[0m\n"
      ]
     },
     "metadata": {},
     "output_type": "display_data"
    }
   ],
   "source": [
    "%%latex"
   ]
  },
  {
   "cell_type": "markdown",
   "metadata": {},
   "source": [
    "### Magics.jl(これでJupyter芸人)\n",
    "https://github.com/JuliaLang/IJulia.jl/blob/master/src/magics.jl"
   ]
  },
  {
   "cell_type": "code",
   "execution_count": 6,
   "metadata": {},
   "outputs": [
    {
     "data": {
      "text/latex": [
       "The analogue of IPython's \\texttt{\\%time statement} (also \\texttt{\\%timeit}) in Julia is \\texttt{@time statement}.  The analogue of \\texttt{\\%\\%time ...code...} is\n",
       "\n",
       "\\begin{verbatim}\n",
       "@time begin\n",
       "    ...code...\n",
       "end\n",
       "\\end{verbatim}\n",
       "Note, however, that you should put all performance-critical code into a function, avoiding global variables, before doing performance measurements in Julia; see the \\href{http://docs.julialang.org/en/latest/manual/performance-tips/}{performance tips in the Julia manual}.\n",
       "\n",
       "The \\texttt{@time} macro prints the timing results, and returns the value of evaluating the expression.  To instead return the time (in seconds), use \\texttt{@elapsed statement}.\n",
       "\n",
       "For more extensive benchmarking tools, including the ability to collect statistics from multiple runs, see the \\href{https://github.com/JuliaCI/BenchmarkTools.jl}{BenchmarkTools package}.\n",
       "\n"
      ],
      "text/markdown": [
       "The analogue of IPython's `%time statement` (also `%timeit`) in Julia is `@time statement`.  The analogue of `%%time ...code...` is\n",
       "\n",
       "```\n",
       "@time begin\n",
       "    ...code...\n",
       "end\n",
       "```\n",
       "\n",
       "Note, however, that you should put all performance-critical code into a function, avoiding global variables, before doing performance measurements in Julia; see the [performance tips in the Julia manual](http://docs.julialang.org/en/latest/manual/performance-tips/).\n",
       "\n",
       "The `@time` macro prints the timing results, and returns the value of evaluating the expression.  To instead return the time (in seconds), use `@elapsed statement`.\n",
       "\n",
       "For more extensive benchmarking tools, including the ability to collect statistics from multiple runs, see the [BenchmarkTools package](https://github.com/JuliaCI/BenchmarkTools.jl).\n"
      ],
      "text/plain": [
       "  The analogue of IPython's \u001b[36m%time statement\u001b[39m (also \u001b[36m%timeit\u001b[39m) in Julia is \u001b[36m@time\n",
       "  statement\u001b[39m. The analogue of \u001b[36m%%time ...code...\u001b[39m is\n",
       "\n",
       "  \u001b[38;5;208m@\u001b[0m\u001b[38;5;208mtime\u001b[0m \u001b[0m\u001b[38;5;197mbegin\u001b[0m\n",
       "      \u001b[0m\u001b[38;5;197m...\u001b[0m\u001b[39mcode\u001b[0m\u001b[38;5;197m...\u001b[0m\n",
       "  \u001b[0m\u001b[38;5;197mend\u001b[0m\u001b[39m\u001b[0m\n",
       "\n",
       "\n",
       "  Note, however, that you should put all performance-critical code into a\n",
       "  function, avoiding global variables, before doing performance measurements\n",
       "  in Julia; see the performance tips in the Julia manual\n",
       "  (http://docs.julialang.org/en/latest/manual/performance-tips/).\n",
       "\n",
       "  The \u001b[36m@time\u001b[39m macro prints the timing results, and returns the value of\n",
       "  evaluating the expression. To instead return the time (in seconds), use\n",
       "  \u001b[36m@elapsed statement\u001b[39m.\n",
       "\n",
       "  For more extensive benchmarking tools, including the ability to collect\n",
       "  statistics from multiple runs, see the BenchmarkTools package\n",
       "  (https://github.com/JuliaCI/BenchmarkTools.jl)."
      ]
     },
     "metadata": {},
     "output_type": "display_data"
    }
   ],
   "source": [
    "%%timeit"
   ]
  },
  {
   "cell_type": "code",
   "execution_count": 6,
   "metadata": {},
   "outputs": [
    {
     "name": "stdout",
     "output_type": "stream",
     "text": [
      "hello\n"
     ]
    },
    {
     "data": {
      "text/plain": [
       "Process(`\u001b[4mecho\u001b[24m \u001b[4mhello\u001b[24m`, ProcessExited(0))"
      ]
     },
     "execution_count": 6,
     "metadata": {},
     "output_type": "execute_result"
    }
   ],
   "source": [
    "run(`echo hello`)"
   ]
  },
  {
   "cell_type": "code",
   "execution_count": null,
   "metadata": {},
   "outputs": [],
   "source": []
  }
 ],
 "metadata": {
  "kernelspec": {
   "display_name": "Julia 1.1.0",
   "language": "julia",
   "name": "julia-1.1"
  },
  "language_info": {
   "file_extension": ".jl",
   "mimetype": "application/julia",
   "name": "julia",
   "version": "1.1.0"
  }
 },
 "nbformat": 4,
 "nbformat_minor": 2
}
