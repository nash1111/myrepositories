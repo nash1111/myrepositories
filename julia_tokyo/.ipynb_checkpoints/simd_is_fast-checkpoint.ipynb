{
 "cells": [
  {
   "cell_type": "code",
   "execution_count": 2,
   "metadata": {
    "slideshow": {
     "slide_type": "slide"
    }
   },
   "outputs": [],
   "source": [
    "using BenchmarkTools"
   ]
  },
  {
   "cell_type": "code",
   "execution_count": 19,
   "metadata": {},
   "outputs": [
    {
     "data": {
      "text/plain": [
       "100000-element Array{Int8,1}:\n",
       "   90\n",
       "    8\n",
       "   27\n",
       "  123\n",
       " -103\n",
       "   98\n",
       "  -51\n",
       "  109\n",
       "  -96\n",
       "  100\n",
       " -101\n",
       "  -25\n",
       "   37\n",
       "    ⋮\n",
       "   -4\n",
       "   64\n",
       "  101\n",
       "  -10\n",
       "  -12\n",
       "  -80\n",
       "   32\n",
       "  -43\n",
       " -116\n",
       "   35\n",
       " -114\n",
       "   25"
      ]
     },
     "execution_count": 19,
     "metadata": {},
     "output_type": "execute_result"
    }
   ],
   "source": [
    "a = zeros(100000)\n",
    "b = rand(Int8, 100000)\n",
    "c = rand(Int8, 100000)\n",
    "d = rand(Int8, 100000)"
   ]
  },
  {
   "cell_type": "code",
   "execution_count": 20,
   "metadata": {},
   "outputs": [
    {
     "data": {
      "text/plain": [
       "sum_vectors (generic function with 1 method)"
      ]
     },
     "execution_count": 20,
     "metadata": {},
     "output_type": "execute_result"
    }
   ],
   "source": [
    "function sum_vectors(a, b, c, d)\n",
    "    n = length(a)\n",
    "    for i in 1:n\n",
    "        a[i] = b[i] + c[i] + d[i]\n",
    "    end\n",
    "end"
   ]
  },
  {
   "cell_type": "code",
   "execution_count": 10,
   "metadata": {},
   "outputs": [
    {
     "data": {
      "text/plain": [
       "BenchmarkTools.Trial: \n",
       "  memory estimate:  78.20 KiB\n",
       "  allocs estimate:  2\n",
       "  --------------\n",
       "  minimum time:     3.276 μs (0.00% GC)\n",
       "  median time:      4.784 μs (0.00% GC)\n",
       "  mean time:        7.513 μs (33.78% GC)\n",
       "  maximum time:     5.444 ms (99.85% GC)\n",
       "  --------------\n",
       "  samples:          10000\n",
       "  evals/sample:     8"
      ]
     },
     "execution_count": 10,
     "metadata": {},
     "output_type": "execute_result"
    }
   ],
   "source": [
    "mutable struct particle\n",
    "    x::Int8\n",
    "end\n",
    "@benchmark particles = Array{particle}(undef, 10000)"
   ]
  },
  {
   "cell_type": "code",
   "execution_count": 13,
   "metadata": {},
   "outputs": [
    {
     "data": {
      "text/plain": [
       "10000-element Array{particle,1}:\n",
       " #undef\n",
       " #undef\n",
       " #undef\n",
       " #undef\n",
       " #undef\n",
       " #undef\n",
       " #undef\n",
       " #undef\n",
       " #undef\n",
       " #undef\n",
       " #undef\n",
       " #undef\n",
       " #undef\n",
       "   ⋮   \n",
       " #undef\n",
       " #undef\n",
       " #undef\n",
       " #undef\n",
       " #undef\n",
       " #undef\n",
       " #undef\n",
       " #undef\n",
       " #undef\n",
       " #undef\n",
       " #undef\n",
       " #undef"
      ]
     },
     "execution_count": 13,
     "metadata": {},
     "output_type": "execute_result"
    }
   ],
   "source": [
    "particles = Array{particle}(undef, 10000)"
   ]
  },
  {
   "cell_type": "code",
   "execution_count": 11,
   "metadata": {},
   "outputs": [
    {
     "data": {
      "text/plain": [
       "BenchmarkTools.Trial: \n",
       "  memory estimate:  234.45 KiB\n",
       "  allocs estimate:  10002\n",
       "  --------------\n",
       "  minimum time:     44.139 μs (0.00% GC)\n",
       "  median time:      52.413 μs (0.00% GC)\n",
       "  mean time:        69.416 μs (19.93% GC)\n",
       "  maximum time:     44.029 ms (99.74% GC)\n",
       "  --------------\n",
       "  samples:          10000\n",
       "  evals/sample:     1"
      ]
     },
     "execution_count": 11,
     "metadata": {},
     "output_type": "execute_result"
    }
   ],
   "source": [
    "@benchmark particles = [particle(0) for i in 1:10000]"
   ]
  },
  {
   "cell_type": "code",
   "execution_count": 14,
   "metadata": {},
   "outputs": [
    {
     "data": {
      "text/plain": [
       "BenchmarkTools.Trial: \n",
       "  memory estimate:  156.25 KiB\n",
       "  allocs estimate:  10000\n",
       "  --------------\n",
       "  minimum time:     38.285 μs (0.00% GC)\n",
       "  median time:      39.740 μs (0.00% GC)\n",
       "  mean time:        53.794 μs (18.21% GC)\n",
       "  maximum time:     39.398 ms (99.73% GC)\n",
       "  --------------\n",
       "  samples:          10000\n",
       "  evals/sample:     1"
      ]
     },
     "execution_count": 14,
     "metadata": {},
     "output_type": "execute_result"
    }
   ],
   "source": [
    "function generate_particle(particles)\n",
    "    n = length(particles)\n",
    "    for i in 1:n\n",
    "        particles[i] = particle(0)\n",
    "    end\n",
    "    return particles\n",
    "end\n",
    "@benchmark generate_particle(particles)"
   ]
  },
  {
   "cell_type": "code",
   "execution_count": 21,
   "metadata": {},
   "outputs": [
    {
     "data": {
      "text/plain": [
       "BenchmarkTools.Trial: \n",
       "  memory estimate:  0 bytes\n",
       "  allocs estimate:  0\n",
       "  --------------\n",
       "  minimum time:     125.474 μs (0.00% GC)\n",
       "  median time:      125.556 μs (0.00% GC)\n",
       "  mean time:        136.913 μs (0.00% GC)\n",
       "  maximum time:     987.026 μs (0.00% GC)\n",
       "  --------------\n",
       "  samples:          10000\n",
       "  evals/sample:     1"
      ]
     },
     "execution_count": 21,
     "metadata": {},
     "output_type": "execute_result"
    }
   ],
   "source": [
    "@benchmark sum_vectors(a, b, c, d)"
   ]
  },
  {
   "cell_type": "code",
   "execution_count": 22,
   "metadata": {},
   "outputs": [
    {
     "data": {
      "text/plain": [
       "BenchmarkTools.Trial: \n",
       "  memory estimate:  0 bytes\n",
       "  allocs estimate:  0\n",
       "  --------------\n",
       "  minimum time:     37.890 μs (0.00% GC)\n",
       "  median time:      37.996 μs (0.00% GC)\n",
       "  mean time:        40.743 μs (0.00% GC)\n",
       "  maximum time:     534.254 μs (0.00% GC)\n",
       "  --------------\n",
       "  samples:          10000\n",
       "  evals/sample:     1"
      ]
     },
     "execution_count": 22,
     "metadata": {},
     "output_type": "execute_result"
    }
   ],
   "source": [
    "@benchmark sum_vectors_simd(a, b, c, d)"
   ]
  },
  {
   "cell_type": "code",
   "execution_count": 12,
   "metadata": {},
   "outputs": [
    {
     "data": {
      "text/plain": [
       "sum_vectors_simd (generic function with 1 method)"
      ]
     },
     "execution_count": 12,
     "metadata": {},
     "output_type": "execute_result"
    }
   ],
   "source": [
    "function sum_vectors_simd(a, b, c, d)\n",
    "    n = length(a)\n",
    "    @inbounds @simd for i in 1:n\n",
    "        a[i] = b[i] + c[i] + d[i]\n",
    "    end\n",
    "end"
   ]
  },
  {
   "cell_type": "code",
   "execution_count": 5,
   "metadata": {},
   "outputs": [
    {
     "data": {
      "text/plain": [
       "simdsum (generic function with 1 method)"
      ]
     },
     "execution_count": 5,
     "metadata": {},
     "output_type": "execute_result"
    }
   ],
   "source": [
    "A = rand(100_000)\n",
    "function simplesum(A)\n",
    "    result = zero(eltype(A))\n",
    "    for i in eachindex(A)\n",
    "        result += A[i]\n",
    "    end\n",
    "    return result\n",
    "end\n",
    "\n",
    "\n",
    "function simdsum(A)\n",
    "    result = zero(eltype(A))\n",
    "    @inbounds @simd for i in eachindex(A)\n",
    "        result += A[i]\n",
    "    end\n",
    "    return result\n",
    "end\n",
    "\n",
    "\n"
   ]
  },
  {
   "cell_type": "code",
   "execution_count": 6,
   "metadata": {},
   "outputs": [
    {
     "data": {
      "text/plain": [
       "BenchmarkTools.Trial: \n",
       "  memory estimate:  16 bytes\n",
       "  allocs estimate:  1\n",
       "  --------------\n",
       "  minimum time:     100.302 μs (0.00% GC)\n",
       "  median time:      100.337 μs (0.00% GC)\n",
       "  mean time:        103.201 μs (0.00% GC)\n",
       "  maximum time:     193.263 μs (0.00% GC)\n",
       "  --------------\n",
       "  samples:          10000\n",
       "  evals/sample:     1"
      ]
     },
     "execution_count": 6,
     "metadata": {},
     "output_type": "execute_result"
    }
   ],
   "source": [
    "@benchmark simplesum(A)"
   ]
  },
  {
   "cell_type": "code",
   "execution_count": 7,
   "metadata": {},
   "outputs": [
    {
     "data": {
      "text/plain": [
       "BenchmarkTools.Trial: \n",
       "  memory estimate:  16 bytes\n",
       "  allocs estimate:  1\n",
       "  --------------\n",
       "  minimum time:     12.430 μs (0.00% GC)\n",
       "  median time:      13.261 μs (0.00% GC)\n",
       "  mean time:        14.238 μs (0.00% GC)\n",
       "  maximum time:     66.388 μs (0.00% GC)\n",
       "  --------------\n",
       "  samples:          10000\n",
       "  evals/sample:     1"
      ]
     },
     "execution_count": 7,
     "metadata": {},
     "output_type": "execute_result"
    }
   ],
   "source": [
    "@benchmark simdsum(A)"
   ]
  },
  {
   "cell_type": "code",
   "execution_count": 8,
   "metadata": {},
   "outputs": [
    {
     "data": {
      "text/plain": [
       "49819.03557290002"
      ]
     },
     "execution_count": 8,
     "metadata": {},
     "output_type": "execute_result"
    }
   ],
   "source": [
    "simdsum(A)"
   ]
  },
  {
   "cell_type": "markdown",
   "metadata": {},
   "source": [
    "#### @SIMD使ってみる"
   ]
  },
  {
   "cell_type": "code",
   "execution_count": null,
   "metadata": {},
   "outputs": [],
   "source": []
  },
  {
   "cell_type": "markdown",
   "metadata": {
    "slideshow": {
     "slide_type": "slide"
    }
   },
   "source": [
    "#### @SIMD使ってみる\n",
    "\n",
    "\\begin{align}\n",
    "x_1 + y_1 &\\rightarrow z_1 \\\\\n",
    "x_2 + y_2 &\\rightarrow z_2 \\\\\n",
    "... \\\\\n",
    "x_n + y_n &\\rightarrow z_n\n",
    "\\end{align}\n",
    "\n",
    "一度の命令にする\n",
    "\n",
    "$$\n",
    "\\left(\\begin{array}{cc}\n",
    "x_1 \\\\\n",
    "x_2 \\\\\n",
    "... \\\\\n",
    "x_n\n",
    "\\end{array}\\right)\n",
    "+\n",
    "\\left(\\begin{array}{cc}\n",
    "y_1 \\\\\n",
    "y_2 \\\\\n",
    "... \\\\\n",
    "y_n\n",
    "\\end{array}\\right)\n",
    "\\rightarrow\n",
    "\\left(\\begin{array}{cc}\n",
    "z_1 \\\\\n",
    "z_2 \\\\\n",
    "... \\\\\n",
    "z_n\n",
    "\\end{array}\\right)\n",
    "$$"
   ]
  },
  {
   "cell_type": "markdown",
   "metadata": {},
   "source": []
  },
  {
   "cell_type": "code",
   "execution_count": 18,
   "metadata": {},
   "outputs": [
    {
     "data": {
      "text/plain": [
       "2046.0"
      ]
     },
     "execution_count": 18,
     "metadata": {},
     "output_type": "execute_result"
    }
   ],
   "source": [
    "x = 0.0;\n",
    "@simd for n = 1:10\n",
    "  global x\n",
    "  x += 1;\n",
    "  x *= 2;\n",
    "end\n",
    "x"
   ]
  },
  {
   "cell_type": "code",
   "execution_count": 25,
   "metadata": {},
   "outputs": [
    {
     "data": {
      "text/plain": [
       "show_sum (generic function with 1 method)"
      ]
     },
     "execution_count": 25,
     "metadata": {},
     "output_type": "execute_result"
    }
   ],
   "source": [
    "a = collect(1:100)\n",
    "\n",
    "function show_simd_sum(A)\n",
    "    result = zero(eltype(A))\n",
    "    @inbounds @simd for i in eachindex(A)\n",
    "        result = result + A[i]\n",
    "        @show i\n",
    "    end\n",
    "    return result\n",
    "end\n",
    "\n",
    "\n",
    "function show_sum(A)\n",
    "    result = zero(eltype(A))\n",
    "    for i in eachindex(A)\n",
    "        result = result + A[i]\n",
    "        @show result\n",
    "    end\n",
    "    return result\n",
    "end\n"
   ]
  },
  {
   "cell_type": "code",
   "execution_count": 26,
   "metadata": {},
   "outputs": [
    {
     "name": "stdout",
     "output_type": "stream",
     "text": [
      "result = 1\n",
      "result = 3\n",
      "result = 6\n",
      "result = 10\n",
      "result = 15\n",
      "result = 21\n",
      "result = 28\n",
      "result = 36\n",
      "result = 45\n",
      "result = 55\n",
      "result = 66\n",
      "result = 78\n",
      "result = 91\n",
      "result = 105\n",
      "result = 120\n",
      "result = 136\n",
      "result = 153\n",
      "result = 171\n",
      "result = 190\n",
      "result = 210\n",
      "result = 231\n",
      "result = 253\n",
      "result = 276\n",
      "result = 300\n",
      "result = 325\n",
      "result = 351\n",
      "result = 378\n",
      "result = 406\n",
      "result = 435\n",
      "result = 465\n",
      "result = 496\n",
      "result = 528\n",
      "result = 561\n",
      "result = 595\n",
      "result = 630\n",
      "result = 666\n",
      "result = 703\n",
      "result = 741\n",
      "result = 780\n",
      "result = 820\n",
      "result = 861\n",
      "result = 903\n",
      "result = 946\n",
      "result = 990\n",
      "result = 1035\n",
      "result = 1081\n",
      "result = 1128\n",
      "result = 1176\n",
      "result = 1225\n",
      "result = 1275\n",
      "result = 1326\n",
      "result = 1378\n",
      "result = 1431\n",
      "result = 1485\n",
      "result = 1540\n",
      "result = 1596\n",
      "result = 1653\n",
      "result = 1711\n",
      "result = 1770\n",
      "result = 1830\n",
      "result = 1891\n",
      "result = 1953\n",
      "result = 2016\n",
      "result = 2080\n",
      "result = 2145\n",
      "result = 2211\n",
      "result = 2278\n",
      "result = 2346\n",
      "result = 2415\n",
      "result = 2485\n",
      "result = 2556\n",
      "result = 2628\n",
      "result = 2701\n",
      "result = 2775\n",
      "result = 2850\n",
      "result = 2926\n",
      "result = 3003\n",
      "result = 3081\n",
      "result = 3160\n",
      "result = 3240\n",
      "result = 3321\n",
      "result = 3403\n",
      "result = 3486\n",
      "result = 3570\n",
      "result = 3655\n",
      "result = 3741\n",
      "result = 3828\n",
      "result = 3916\n",
      "result = 4005\n",
      "result = 4095\n",
      "result = 4186\n",
      "result = 4278\n",
      "result = 4371\n",
      "result = 4465\n",
      "result = 4560\n",
      "result = 4656\n",
      "result = 4753\n",
      "result = 4851\n",
      "result = 4950\n",
      "result = 5050\n"
     ]
    },
    {
     "data": {
      "text/plain": [
       "5050"
      ]
     },
     "execution_count": 26,
     "metadata": {},
     "output_type": "execute_result"
    }
   ],
   "source": [
    "show_sum(a)"
   ]
  },
  {
   "cell_type": "code",
   "execution_count": 27,
   "metadata": {},
   "outputs": [
    {
     "name": "stdout",
     "output_type": "stream",
     "text": [
      "result = 1\n",
      "result = 3\n",
      "result = 6\n",
      "result = 10\n",
      "result = 15\n",
      "result = 21\n",
      "result = 28\n",
      "result = 36\n",
      "result = 45\n",
      "result = 55\n",
      "result = 66\n",
      "result = 78\n",
      "result = 91\n",
      "result = 105\n",
      "result = 120\n",
      "result = 136\n",
      "result = 153\n",
      "result = 171\n",
      "result = 190\n",
      "result = 210\n",
      "result = 231\n",
      "result = 253\n",
      "result = 276\n",
      "result = 300\n",
      "result = 325\n",
      "result = 351\n",
      "result = 378\n",
      "result = 406\n",
      "result = 435\n",
      "result = 465\n",
      "result = 496\n",
      "result = 528\n",
      "result = 561\n",
      "result = 595\n",
      "result = 630\n",
      "result = 666\n",
      "result = 703\n",
      "result = 741\n",
      "result = 780\n",
      "result = 820\n",
      "result = 861\n",
      "result = 903\n",
      "result = 946\n",
      "result = 990\n",
      "result = 1035\n",
      "result = 1081\n",
      "result = 1128\n",
      "result = 1176\n",
      "result = 1225\n",
      "result = 1275\n",
      "result = 1326\n",
      "result = 1378\n",
      "result = 1431\n",
      "result = 1485\n",
      "result = 1540\n",
      "result = 1596\n",
      "result = 1653\n",
      "result = 1711\n",
      "result = 1770\n",
      "result = 1830\n",
      "result = 1891\n",
      "result = 1953\n",
      "result = 2016\n",
      "result = 2080\n",
      "result = 2145\n",
      "result = 2211\n",
      "result = 2278\n",
      "result = 2346\n",
      "result = 2415\n",
      "result = 2485\n",
      "result = 2556\n",
      "result = 2628\n",
      "result = 2701\n",
      "result = 2775\n",
      "result = 2850\n",
      "result = 2926\n",
      "result = 3003\n",
      "result = 3081\n",
      "result = 3160\n",
      "result = 3240\n",
      "result = 3321\n",
      "result = 3403\n",
      "result = 3486\n",
      "result = 3570\n",
      "result = 3655\n",
      "result = 3741\n",
      "result = 3828\n",
      "result = 3916\n",
      "result = 4005\n",
      "result = 4095\n",
      "result = 4186\n",
      "result = 4278\n",
      "result = 4371\n",
      "result = 4465\n",
      "result = 4560\n",
      "result = 4656\n",
      "result = 4753\n",
      "result = 4851\n",
      "result = 4950\n",
      "result = 5050\n"
     ]
    },
    {
     "data": {
      "text/plain": [
       "5050"
      ]
     },
     "execution_count": 27,
     "metadata": {},
     "output_type": "execute_result"
    }
   ],
   "source": [
    "show_simd_sum(a)"
   ]
  },
  {
   "cell_type": "code",
   "execution_count": null,
   "metadata": {},
   "outputs": [],
   "source": []
  },
  {
   "cell_type": "code",
   "execution_count": null,
   "metadata": {},
   "outputs": [],
   "source": []
  }
 ],
 "metadata": {
  "celltoolbar": "Slideshow",
  "kernelspec": {
   "display_name": "Julia 1.1.0",
   "language": "julia",
   "name": "julia-1.1"
  },
  "language_info": {
   "file_extension": ".jl",
   "mimetype": "application/julia",
   "name": "julia",
   "version": "1.1.0"
  }
 },
 "nbformat": 4,
 "nbformat_minor": 2
}
