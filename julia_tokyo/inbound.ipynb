{
 "cells": [
  {
   "cell_type": "code",
   "execution_count": 8,
   "metadata": {},
   "outputs": [],
   "source": [
    "using BenchmarkTools"
   ]
  },
  {
   "cell_type": "code",
   "execution_count": 18,
   "metadata": {},
   "outputs": [
    {
     "data": {
      "text/plain": [
       "100-element Array{Float64,1}:\n",
       " 0.7351828119341661   \n",
       " 0.42886461546381227  \n",
       " 0.0012368693986453128\n",
       " 0.22252792546014488  \n",
       " 0.922325903019023    \n",
       " 0.35997294379955     \n",
       " 0.7413774518478116   \n",
       " 0.38831149837126167  \n",
       " 0.9920113931246985   \n",
       " 0.16952528648047727  \n",
       " 0.1630417001002742   \n",
       " 0.568698478880771    \n",
       " 0.6196074368625089   \n",
       " ⋮                    \n",
       " 0.24478648880629605  \n",
       " 0.16442832465588664  \n",
       " 0.1733829437131238   \n",
       " 0.25488679820557114  \n",
       " 0.5638221678849828   \n",
       " 0.8820945600376595   \n",
       " 0.5061201240869277   \n",
       " 0.7088323639140803   \n",
       " 0.7190624684374836   \n",
       " 0.018404573353186793 \n",
       " 0.9440229210572659   \n",
       " 0.7340775256455008   "
      ]
     },
     "execution_count": 18,
     "metadata": {},
     "output_type": "execute_result"
    }
   ],
   "source": [
    "A = rand(100)"
   ]
  },
  {
   "cell_type": "code",
   "execution_count": 13,
   "metadata": {},
   "outputs": [
    {
     "data": {
      "text/plain": [
       "access_list (generic function with 1 method)"
      ]
     },
     "execution_count": 13,
     "metadata": {},
     "output_type": "execute_result"
    }
   ],
   "source": [
    "function access_list(x, i)\n",
    "    return x[i]\n",
    "end"
   ]
  },
  {
   "cell_type": "code",
   "execution_count": 19,
   "metadata": {},
   "outputs": [
    {
     "name": "stdout",
     "output_type": "stream",
     "text": [
      "  16.956 ns (1 allocation: 16 bytes)\n"
     ]
    },
    {
     "data": {
      "text/plain": [
       "0.7351828119341661"
      ]
     },
     "execution_count": 19,
     "metadata": {},
     "output_type": "execute_result"
    }
   ],
   "source": [
    "@btime access_list(A, 1)"
   ]
  },
  {
   "cell_type": "code",
   "execution_count": 15,
   "metadata": {},
   "outputs": [
    {
     "data": {
      "text/plain": [
       "access_list_inbounds (generic function with 1 method)"
      ]
     },
     "execution_count": 15,
     "metadata": {},
     "output_type": "execute_result"
    }
   ],
   "source": [
    "function access_list_inbounds(x, i)\n",
    "    return @inbounds x[i]\n",
    "end"
   ]
  },
  {
   "cell_type": "code",
   "execution_count": 20,
   "metadata": {},
   "outputs": [
    {
     "name": "stdout",
     "output_type": "stream",
     "text": [
      "  14.909 ns (1 allocation: 16 bytes)\n"
     ]
    },
    {
     "data": {
      "text/plain": [
       "0.7351828119341661"
      ]
     },
     "execution_count": 20,
     "metadata": {},
     "output_type": "execute_result"
    }
   ],
   "source": [
    "@btime access_list_inbounds(A, 1)"
   ]
  },
  {
   "cell_type": "code",
   "execution_count": 21,
   "metadata": {},
   "outputs": [
    {
     "data": {
      "text/plain": [
       "0.0"
      ]
     },
     "execution_count": 21,
     "metadata": {},
     "output_type": "execute_result"
    }
   ],
   "source": [
    "access_list_inbounds(A, 101)"
   ]
  },
  {
   "cell_type": "code",
   "execution_count": 22,
   "metadata": {},
   "outputs": [
    {
     "ename": "BoundsError",
     "evalue": "BoundsError: attempt to access 100-element Array{Float64,1} at index [101]",
     "output_type": "error",
     "traceback": [
      "BoundsError: attempt to access 100-element Array{Float64,1} at index [101]",
      "",
      "Stacktrace:",
      " [1] getindex at ./array.jl:729 [inlined]",
      " [2] access_list(::Array{Float64,1}, ::Int64) at ./In[13]:2",
      " [3] top-level scope at In[22]:1"
     ]
    }
   ],
   "source": [
    "access_list(A, 101)"
   ]
  },
  {
   "cell_type": "code",
   "execution_count": 25,
   "metadata": {},
   "outputs": [
    {
     "ename": "Base.IOError",
     "evalue": "IOError: could not spawn `'lscpu>test.txt'`: no such file or directory (ENOENT)",
     "output_type": "error",
     "traceback": [
      "IOError: could not spawn `'lscpu>test.txt'`: no such file or directory (ENOENT)",
      "",
      "Stacktrace:",
      " [1] _spawn_primitive(::String, ::Cmd, ::Array{Any,1}) at ./process.jl:400",
      " [2] setup_stdios(::getfield(Base, Symbol(\"##505#506\")){Cmd}, ::Array{Any,1}) at ./process.jl:413",
      " [3] _spawn at ./process.jl:412 [inlined]",
      " [4] #run#515(::Bool, ::Function, ::Cmd) at ./process.jl:725",
      " [5] run(::Cmd) at ./process.jl:724",
      " [6] top-level scope at In[25]:1"
     ]
    }
   ],
   "source": [
    "run(`lscpu>test.txt`)"
   ]
  },
  {
   "cell_type": "code",
   "execution_count": null,
   "metadata": {},
   "outputs": [],
   "source": []
  }
 ],
 "metadata": {
  "kernelspec": {
   "display_name": "Julia 1.1.0",
   "language": "julia",
   "name": "julia-1.1"
  },
  "language_info": {
   "file_extension": ".jl",
   "mimetype": "application/julia",
   "name": "julia",
   "version": "1.1.0"
  }
 },
 "nbformat": 4,
 "nbformat_minor": 2
}
